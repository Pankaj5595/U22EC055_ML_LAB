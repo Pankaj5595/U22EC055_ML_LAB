{
 "cells": [
  {
   "cell_type": "code",
   "execution_count": 1,
   "id": "0b661e83",
   "metadata": {},
   "outputs": [
    {
     "name": "stderr",
     "output_type": "stream",
     "text": [
      "2025-05-14 14:20:04.856 WARNING streamlit.runtime.scriptrunner_utils.script_run_context: Thread 'MainThread': missing ScriptRunContext! This warning can be ignored when running in bare mode.\n",
      "2025-05-14 14:20:07.117 \n",
      "  \u001b[33m\u001b[1mWarning:\u001b[0m to view this Streamlit app on a browser, run it with the following\n",
      "  command:\n",
      "\n",
      "    streamlit run C:\\Users\\admin\\AppData\\Roaming\\Python\\Python312\\site-packages\\ipykernel_launcher.py [ARGUMENTS]\n",
      "2025-05-14 14:20:07.121 Thread 'MainThread': missing ScriptRunContext! This warning can be ignored when running in bare mode.\n",
      "2025-05-14 14:20:07.125 Thread 'MainThread': missing ScriptRunContext! This warning can be ignored when running in bare mode.\n",
      "2025-05-14 14:20:07.125 Thread 'MainThread': missing ScriptRunContext! This warning can be ignored when running in bare mode.\n",
      "2025-05-14 14:20:07.159 Thread 'MainThread': missing ScriptRunContext! This warning can be ignored when running in bare mode.\n",
      "2025-05-14 14:20:07.159 Thread 'MainThread': missing ScriptRunContext! This warning can be ignored when running in bare mode.\n",
      "2025-05-14 14:20:07.180 Thread 'MainThread': missing ScriptRunContext! This warning can be ignored when running in bare mode.\n",
      "2025-05-14 14:20:07.192 Thread 'MainThread': missing ScriptRunContext! This warning can be ignored when running in bare mode.\n",
      "2025-05-14 14:20:07.194 Session state does not function when running a script without `streamlit run`\n",
      "2025-05-14 14:20:07.198 Thread 'MainThread': missing ScriptRunContext! This warning can be ignored when running in bare mode.\n",
      "2025-05-14 14:20:07.202 Thread 'MainThread': missing ScriptRunContext! This warning can be ignored when running in bare mode.\n",
      "2025-05-14 14:20:07.206 Thread 'MainThread': missing ScriptRunContext! This warning can be ignored when running in bare mode.\n",
      "2025-05-14 14:20:07.208 Thread 'MainThread': missing ScriptRunContext! This warning can be ignored when running in bare mode.\n",
      "2025-05-14 14:20:07.210 Thread 'MainThread': missing ScriptRunContext! This warning can be ignored when running in bare mode.\n",
      "2025-05-14 14:20:07.213 Thread 'MainThread': missing ScriptRunContext! This warning can be ignored when running in bare mode.\n",
      "2025-05-14 14:20:07.215 Thread 'MainThread': missing ScriptRunContext! This warning can be ignored when running in bare mode.\n"
     ]
    }
   ],
   "source": [
    "# app.py\n",
    "import streamlit as st\n",
    "import pandas as pd\n",
    "from sklearn.feature_extraction.text import CountVectorizer\n",
    "from sklearn.metrics.pairwise import cosine_similarity\n",
    "\n",
    "# Load data\n",
    "movies = pd.read_csv(\"movies.csv\")\n",
    "ratings = pd.read_csv(\"ratings.csv\")\n",
    "\n",
    "# Preprocess ratings\n",
    "rating_stats = ratings.groupby('movieId')['rating'].agg(['mean', 'count']).reset_index()\n",
    "rating_stats.columns = ['movieId', 'avg_rating', 'rating_count']\n",
    "movies = pd.merge(movies, rating_stats, on='movieId', how='left')\n",
    "movies['genres'] = movies['genres'].fillna('')\n",
    "movies['avg_rating'] = movies['avg_rating'].fillna(0)\n",
    "movies['rating_count'] = movies['rating_count'].fillna(0)\n",
    "movies['processed_genres'] = movies['genres'].str.replace('|', ' ', regex=False)\n",
    "\n",
    "# Genre vectorization\n",
    "vectorizer = CountVectorizer()\n",
    "genre_matrix = vectorizer.fit_transform(movies['processed_genres'])\n",
    "cosine_sim = cosine_similarity(genre_matrix)\n",
    "\n",
    "# Reverse index\n",
    "title_to_index = pd.Series(movies.index, index=movies['title'])\n",
    "\n",
    "# Recommendation logic\n",
    "def recommend_movies(title, top_n=10):\n",
    "    if title not in title_to_index:\n",
    "        return None\n",
    "    idx = title_to_index[title]\n",
    "    sim_scores = list(enumerate(cosine_sim[idx]))\n",
    "    sim_scores = sorted(sim_scores, key=lambda x: x[1], reverse=True)[1:top_n+1]\n",
    "    movie_indices = [i[0] for i in sim_scores]\n",
    "    similar_movies = movies.iloc[movie_indices][['title', 'avg_rating', 'rating_count']]\n",
    "    similar_movies = similar_movies.sort_values(by=['avg_rating', 'rating_count'], ascending=[False, False])\n",
    "    return similar_movies.reset_index(drop=True)\n",
    "\n",
    "# Streamlit UI\n",
    "st.title(\"🎬 Movie Recommendation System\")\n",
    "st.write(\"Enter a movie name and get similar, highly-rated movie recommendations.\")\n",
    "\n",
    "movie_list = sorted(movies['title'].dropna().unique())\n",
    "selected_movie = st.selectbox(\"Choose a movie\", movie_list)\n",
    "\n",
    "if st.button(\"Recommend\"):\n",
    "    result = recommend_movies(selected_movie)\n",
    "    if result is not None:\n",
    "        st.subheader(\"Recommended Movies:\")\n",
    "        st.dataframe(result)\n",
    "    else:\n",
    "        st.warning(\"Movie not found in the database.\")\n"
   ]
  }
 ],
 "metadata": {
  "kernelspec": {
   "display_name": "Python 3",
   "language": "python",
   "name": "python3"
  },
  "language_info": {
   "codemirror_mode": {
    "name": "ipython",
    "version": 3
   },
   "file_extension": ".py",
   "mimetype": "text/x-python",
   "name": "python",
   "nbconvert_exporter": "python",
   "pygments_lexer": "ipython3",
   "version": "3.12.5"
  }
 },
 "nbformat": 4,
 "nbformat_minor": 5
}
